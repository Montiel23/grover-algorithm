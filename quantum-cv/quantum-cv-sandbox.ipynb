{
 "cells": [
  {
   "cell_type": "code",
   "execution_count": 84,
   "id": "cd4b0b0d-7253-4a97-9e72-03576b882c1a",
   "metadata": {},
   "outputs": [],
   "source": [
    "from pennylane import numpy as np\n",
    "import pennylane as qml\n",
    "import torch\n",
    "import torchvision\n",
    "import matplotlib.pyplot as plt\n",
    "from tqdm import tqdm\n",
    "from sklearn.preprocessing import OneHotEncoder"
   ]
  },
  {
   "cell_type": "markdown",
   "id": "2c61f87d-5a3e-4760-aa0b-35977f1b1254",
   "metadata": {},
   "source": [
    "## CV TRIAL"
   ]
  },
  {
   "cell_type": "code",
   "execution_count": 146,
   "id": "f8bcdc8f-8710-4f78-baff-daa1875d2770",
   "metadata": {},
   "outputs": [],
   "source": [
    "# load MNIST and filter digits 0 and 1\n",
    "transform = torchvision.transforms.Compose([torchvision.transforms.ToTensor()])\n",
    "trainset = torchvision.datasets.MNIST(root='./data', train=True, download=True, transform=transform)\n",
    "testset = torchvision.datasets.MNIST(root='./data', train=False, download=True, transform=transform)"
   ]
  },
  {
   "cell_type": "code",
   "execution_count": 147,
   "id": "24eb26f4-28ca-4531-bb42-553e2d2ad2dd",
   "metadata": {},
   "outputs": [],
   "source": [
    "# # flatten images and normalize\n",
    "# X_train = torch.stack([x.flatten() for x, y in trainset]).numpy()\n",
    "# y_train = np.array([y for x, y in trainset], dtype=int)\n",
    "\n",
    "# X_test = torch.stack([x.flatten() for x, y in testset]).numpy()\n",
    "# y_test = np.array([y for x, y in testset], dtype=int)\n",
    "\n",
    "# X_train_cv = X_train[:500]\n",
    "\n",
    "# y_train_cv = y_train[:500]\n",
    "\n",
    "# X_test_cv = X_test[:200]\n",
    "# y_test_cv = y_test[:200]\n",
    "\n",
    "# X_train_cv = X_train_cv / 255.0\n",
    "# X_test_cv = X_test_cv / 255.0\n",
    "\n",
    "\n",
    "# # encoder = OneHotEncoder(sparse=False, categories='auto')\n",
    "# encoder = OneHotEncoder(sparse_output=False, categories='auto')\n",
    "# y_train_encoded = encoder.fit_transform(y_train_cv.reshape(-1, 1))\n",
    "# y_test_encoded = encoder.transform(y_test_cv.reshape(-1, 1))\n"
   ]
  },
  {
   "cell_type": "code",
   "execution_count": 151,
   "id": "12ecd5a8-b859-491d-9c65-28c9bab967a8",
   "metadata": {},
   "outputs": [],
   "source": [
    "training_loader = torch.utils.data.DataLoader(trainset, batch_size=16, shuffle=True)\n",
    "test_loader = torch.utils.data.DataLoader(testset, batch_size=16, shuffle=False)"
   ]
  },
  {
   "cell_type": "code",
   "execution_count": 152,
   "id": "e86473ab-a7d7-4d2b-9c1a-0ab41b4b421c",
   "metadata": {},
   "outputs": [],
   "source": [
    "# def show_mnist_batch(X, y, n=12):\n",
    "#     plt.figure(figsize=(12, 5))\n",
    "\n",
    "#     for i in range(n):\n",
    "#         ax = plt.subplot(1, n, i+1)\n",
    "#         img = X[i].reshape(28, 28)\n",
    "#         ax.imshow(img, cmap='gray')\n",
    "#         ax.set_title(f'label: {y[i].item()}')\n",
    "#         ax.axis('off')\n",
    "#     plt.tight_layout()\n",
    "#     plt.show()"
   ]
  },
  {
   "cell_type": "code",
   "execution_count": 153,
   "id": "7d016509-c27c-4139-bbee-54c248e1afdc",
   "metadata": {},
   "outputs": [],
   "source": [
    "# show_mnist_batch(X_train_cv, y_train_cv)"
   ]
  },
  {
   "cell_type": "code",
   "execution_count": 154,
   "id": "6db1c01d-5409-4336-b5cf-6b23cd16af42",
   "metadata": {},
   "outputs": [],
   "source": [
    "n_qumodes = 2\n",
    "cutoff_dim = 10\n",
    "dev_cv = qml.device('strawberryfields.fock', wires=n_qumodes, cutoff_dim=cutoff_dim)\n",
    "\n",
    "n_params = 2 * n_qumodes\n",
    "weights_cv = qml.numpy.array(np.random.uniform(-0.5, 0.5, n_params), requires_grad=True)\n",
    "n_classes = 10\n",
    "classical_weights = qml.numpy.array(np.random.randn(n_classes, n_qumodes), requires_grad=True)\n",
    "\n",
    "@qml.qnode(dev_cv)\n",
    "def cv_circuit(inputs, weights, interface=\"torch\"):\n",
    "    #squeezing and displacement\n",
    "    for i in range(n_qumodes):\n",
    "        qml.Displacement(np.pi * inputs[i], 0, wires=i)\n",
    "        qml.Squeezing(weights[i], 0, wires=i)\n",
    "\n",
    "    #entanglement layer (1 shared beamsplitter)\n",
    "    qml.Beamsplitter(weights[0], 0, wires=[0, 1])\n",
    "\n",
    "    #nonlinearity layer\n",
    "    for i in range(n_qumodes):\n",
    "        qml.Kerr(weights[n_qumodes + i], wires=i)\n",
    "\n",
    "    # return [qml.expval(qml.X(wires=i)) for i in range(n_qumodes)]\n",
    "    # return [qml.expval(qml.NumberOperator(wires=i)) for i in range(n_qumodes)]\n",
    "    return qml.expval(qml.NumberOperator(0))"
   ]
  },
  {
   "cell_type": "code",
   "execution_count": 155,
   "id": "de9b2316-8cdd-4d7b-84f2-4c79e6b77f5c",
   "metadata": {},
   "outputs": [],
   "source": [
    "# n_qumodes = 1\n",
    "# cutoff_dim = 10\n",
    "\n",
    "# dev_cv = qml.device('strawberryfields.fock', wires=n_qumodes, cutoff_dim = cutoff_dim)\n",
    "\n",
    "# opt_cv = qml.AdamOptimizer(stepsize=0.01)\n",
    "\n",
    "# # n_params = 3\n",
    "# n_params = 4\n",
    "# weights_cv = qml.numpy.array(np.random.uniform(-0.5, 0.5, n_params), requires_grad=True)\n",
    "\n",
    "# @qml.qnode(dev_cv)\n",
    "# def cv_circuit(inputs, weights):\n",
    "    \n",
    "#     qml.Displacement(np.pi* inputs[0], 0, wires=0)\n",
    "#     qml.Squeezing(weights[0], 0, wires=0)\n",
    "#     qml.CubicPhase(weights[1], wires=0)\n",
    "#     qml.Kerr(weights[2], wires=0)\n",
    "    \n",
    "#     # return qml.expval(qml.X(0))\n",
    "#     x = qml.expval(qml.X(0))\n",
    "#     return x"
   ]
  },
  {
   "cell_type": "code",
   "execution_count": 156,
   "id": "b7892d8c-8d5e-4e35-b35a-3a29ce55a3e7",
   "metadata": {},
   "outputs": [
    {
     "data": {
      "image/png": "[encoded data removed]",
      "text/plain": [
       "<Figure size 700x300 with 1 Axes>"
      ]
     },
     "metadata": {},
     "output_type": "display_data"
    }
   ],
   "source": [
    "sample_inputs = X_train_cv[0]\n",
    "# fig, ax = qml.draw_mpl(cv_circuit)(sample_inputs, sample_weights)\n",
    "fig, ax = qml.draw_mpl(cv_circuit)(sample_inputs, weights_cv)"
   ]
  },
  {
   "cell_type": "code",
   "execution_count": 157,
   "id": "6f7ff004-592c-44e3-a1d1-2ab46b2db421",
   "metadata": {},
   "outputs": [],
   "source": [
    "import torch.nn as nn\n",
    "import torch.nn.functional as F\n",
    "\n",
    "class CVQNet(nn.Module):\n",
    "    def __init__(self, n_qumodes=2, n_classes=10):\n",
    "        super().__init__()\n",
    "        self.n_qumodes = n_qumodes\n",
    "        self.n_classes = n_classes\n",
    "\n",
    "        init_weights = 0.1 * torch.randn(2 * n_qumodes, dtype=torch.float64, requires_grad=True)\n",
    "        self.q_weights = nn.Parameter(init_weights)\n",
    "\n",
    "        self.fc = nn.Linear(n_qumodes, n_classes)\n",
    "\n",
    "    def forward(self, x_batch):\n",
    "        outputs = []\n",
    "\n",
    "        for x in x_batch:\n",
    "            q_out = cv_circuit(x, self.q_weights)\n",
    "            # q_out = torch.stack(q_out)\n",
    "            outputs.append(q_out)\n",
    "\n",
    "        # q_outputs = torch.stack(outputs)\n",
    "        q_outputs = q_out.float()\n",
    "        \n",
    "        return self.fc(q_outputs)"
   ]
  },
  {
   "cell_type": "code",
   "execution_count": 158,
   "id": "73c0945c-ee0e-4271-b13c-a7f5aabdca5f",
   "metadata": {},
   "outputs": [],
   "source": [
    "# model = CVQNet()\n",
    "# optimizer = torch.optim.Adam(model.parameters(), lr=0.01)\n",
    "# criterion = nn.CrossEntropyLoss()\n",
    "\n",
    "# optimizer.zero_grad()\n",
    "# logits = model(X_batch)\n",
    "# loss = criterion(logits, y_batch)\n",
    "# loss.backward()\n",
    "# optimizer.step()"
   ]
  },
  {
   "cell_type": "code",
   "execution_count": 159,
   "id": "c473268a-aaa2-4a27-a96d-70d38fc951b7",
   "metadata": {},
   "outputs": [],
   "source": [
    "cv_model = CVQNet()\n",
    "optimizer = torch.optim.Adam(model.parameters(), lr=0.01)\n",
    "criterion = nn.CrossEntropyLoss()"
   ]
  },
  {
   "cell_type": "code",
   "execution_count": 161,
   "id": "b352587f-7c5c-4e60-85e7-adf621936dc9",
   "metadata": {},
   "outputs": [],
   "source": [
    "def one_epoch(tloader, model, epochs):\n",
    "    running_loss = 0.\n",
    "    last_loss = 0.\n",
    "\n",
    "    for i, data in enumerate(tloader):\n",
    "        inputs, labels = data\n",
    "\n",
    "        optimizer.zero_grad()\n",
    "\n",
    "        outputs = model(inputs)\n",
    "\n",
    "        loss = criterion(outputs, labels)\n",
    "        loss.backward()\n",
    "\n",
    "        optimizer.step()\n",
    "\n",
    "        running_loss += loss.item()\n",
    "        if i % 1000 == 999:\n",
    "            last_loss = running_loss / 1000\n",
    "            print('batch{} loss: {}'.format(i+1, last_loss))\n",
    "            tb_x = epoch_index * len(training_loader) + i + 1\n",
    "            tb_writer.add_scalar('Loss/train', last_loss, tb_x)\n",
    "            running_loss = 0.\n",
    "\n",
    "    return last_loss"
   ]
  },
  {
   "cell_type": "code",
   "execution_count": 140,
   "id": "30c0e806-7595-441e-9011-7a36a14071fe",
   "metadata": {},
   "outputs": [
    {
     "name": "stderr",
     "output_type": "stream",
     "text": [
      "epoch 1/10:   0%|                                                                                                                                                                                                                                                                                                                                                                                         | 0/32 [00:00<?, ?it/s]\n"
     ]
    },
    {
     "ename": "NameError",
     "evalue": "name 'i' is not defined",
     "output_type": "error",
     "traceback": [
      "\u001b[0;31m---------------------------------------------------------------------------\u001b[0m",
      "\u001b[0;31mNameError\u001b[0m                                 Traceback (most recent call last)",
      "Cell \u001b[0;32mIn[140], line 17\u001b[0m\n\u001b[1;32m     14\u001b[0m y_train_shuffled \u001b[38;5;241m=\u001b[39m y_train_encoded[perm]\n\u001b[1;32m     16\u001b[0m \u001b[38;5;28;01mwith\u001b[39;00m tqdm(\u001b[38;5;28mrange\u001b[39m(\u001b[38;5;241m0\u001b[39m, \u001b[38;5;28mlen\u001b[39m(X_train_cv), batch_size), desc\u001b[38;5;241m=\u001b[39m\u001b[38;5;124mf\u001b[39m\u001b[38;5;124m'\u001b[39m\u001b[38;5;124mepoch \u001b[39m\u001b[38;5;132;01m{\u001b[39;00mepoch\u001b[38;5;250m \u001b[39m\u001b[38;5;241m+\u001b[39m\u001b[38;5;250m \u001b[39m\u001b[38;5;241m1\u001b[39m\u001b[38;5;132;01m}\u001b[39;00m\u001b[38;5;124m/\u001b[39m\u001b[38;5;132;01m{\u001b[39;00mepochs\u001b[38;5;132;01m}\u001b[39;00m\u001b[38;5;124m'\u001b[39m) \u001b[38;5;28;01mas\u001b[39;00m pbar:\n\u001b[0;32m---> 17\u001b[0m     batch_x \u001b[38;5;241m=\u001b[39m X_train_shuffled[\u001b[43mi\u001b[49m:i\u001b[38;5;241m+\u001b[39mbatch_size]\n\u001b[1;32m     18\u001b[0m     batch_y \u001b[38;5;241m=\u001b[39m y_train_shuffled[i:i\u001b[38;5;241m+\u001b[39mbatch_size]\n\u001b[1;32m     20\u001b[0m     \u001b[38;5;28;01mdef\u001b[39;00m\u001b[38;5;250m \u001b[39m\u001b[38;5;21mcost\u001b[39m(weights):\n",
      "\u001b[0;31mNameError\u001b[0m: name 'i' is not defined"
     ]
    }
   ],
   "source": [
    "# batch_size = 16\n",
    "# epochs = 10\n",
    "\n",
    "# loss_history_cv = []\n",
    "# acc_history_cv = []\n",
    "\n",
    "# for epoch in range(epochs):\n",
    "#     epoch_loss = 0\n",
    "#     all_preds = []\n",
    "#     all_labels = []\n",
    "\n",
    "#     perm = np.random.permutation(len(X_train_cv))\n",
    "#     X_train_shuffled = X_train_cv[perm]\n",
    "#     y_train_shuffled = y_train_encoded[perm]\n",
    "\n",
    "#     with tqdm(range(0, len(X_train_cv), batch_size), desc=f'epoch {epoch + 1}/{epochs}') as pbar:\n",
    "#         batch_x = X_train_shuffled[i:i+batch_size]\n",
    "#         batch_y = y_train_shuffled[i:i+batch_size]\n",
    "\n",
    "#         def cost(weights):\n",
    "#             logits = qml.numpy.stack([cv_circuit(x, weights) for x in batch_x])\n",
    "#             probs = softmax(logits)\n",
    "#             return categorical_cross_entropy(batch_y, probs)\n",
    "\n",
    "#         weights_cv, batch_loss = opt_cv.step_and_cost(cost, weights_cv)\n",
    "#         epoch_loss += batch_loss\n",
    "\n",
    "#         # logits = qml.numpy.stack([cv_circuit(x, weights_cv) for x in batch_x])\n",
    "#         logits = qml.numpy.stack([qml.math.convert_like(cv_circuit(x, weights), 0.0) for x in batch_x])\n",
    "#         probs = softmax(logits)\n",
    "#         all_preds.append(probs)\n",
    "#         all_labels.append(batch_y)\n",
    "\n",
    "#         pbar.set_postfix(loss=f'{batch_loss:.4f}')\n",
    "\n",
    "#     all_preds = np.vstack(all_preds)\n",
    "#     all_labels = np.vstack(all_labels)\n",
    "#     avg_loss = epoch_loss / (len(X_train_cv) / batch_size)\n",
    "#     acc = multiclass_accuracy(all_labels, all_preds)\n",
    "\n",
    "#     loss_history_cv.append(avg_loss)\n",
    "#     acc_history_cv.append(acc)\n",
    "\n",
    "#     tqdm.write(f'epoch {epoch + 1} - loss: {avg_loss:.4f} - acc: {acc:.4f}')"
   ]
  },
  {
   "cell_type": "markdown",
   "id": "214b6c2e-ee19-4128-98af-6a7cdc11a90f",
   "metadata": {},
   "source": []
  },
  {
   "cell_type": "code",
   "execution_count": null,
   "id": "f8a7aa23-d58a-4a84-bb8e-480c3acd77f4",
   "metadata": {},
   "outputs": [],
   "source": []
  }
 ],
 "metadata": {
  "kernelspec": {
   "display_name": "qml-dv-cv",
   "language": "python",
   "name": "qml-dv-cv"
  },
  "language_info": {
   "codemirror_mode": {
    "name": "ipython",
    "version": 3
   },
   "file_extension": ".py",
   "mimetype": "text/x-python",
   "name": "python",
   "nbconvert_exporter": "python",
   "pygments_lexer": "ipython3",
   "version": "3.9.21"
  }
 },
 "nbformat": 4,
 "nbformat_minor": 5
}
