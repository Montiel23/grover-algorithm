{
 "cells": [
  {
   "cell_type": "code",
   "execution_count": 1,
   "id": "8881077f-89f1-447f-99b2-27cf77dd30cf",
   "metadata": {},
   "outputs": [],
   "source": [
    "import pennylane as qml\n",
    "from pennylane import numpy as np\n",
    "import torch\n",
    "import torchvision\n",
    "import matplotlib.pyplot as plt\n",
    "from tqdm import tqdm\n",
    "\n",
    "from sklearn.model_selection import train_test_split\n",
    "from sklearn.datasets import load_digits\n",
    "from sklearn.preprocessing import StandardScaler"
   ]
  },
  {
   "cell_type": "code",
   "execution_count": 2,
   "id": "cc440564-4348-4a1c-9636-ea1d507dae4e",
   "metadata": {},
   "outputs": [],
   "source": [
    "# test_input = [[[1.0472, 0.7854, 3.1416, 0.3927],\n",
    "#                [1.0472, 0.7854, 3.1416, 0.5236]],\n",
    "#                [[1.0472, 0.7854, 1.5708, 0.3927],\n",
    "#                [0.7854, 0.7854, 1.5708, 0.7854]]],"
   ]
  },
  {
   "cell_type": "code",
   "execution_count": 3,
   "id": "9df8ea4a-6c0d-42ef-9292-458383f52da1",
   "metadata": {},
   "outputs": [],
   "source": [
    "def W(params):\n",
    "\n",
    "    for i in range(len(params)):\n",
    "        for j in range(len(params[i])):\n",
    "            qml.RY(params[i][j], wires=j)\n",
    "        for j in range(len(params[i])):\n",
    "            qml.CNOT(wires=[j, (j+1) % len(params[i])])\n",
    "    \n",
    "    #LATEST VERSION\n",
    "    \n",
    "    # for layer in params[i]:\n",
    "    #     for wire in range(len(layer)):\n",
    "    #         qml.RY(layer[wire], wires=wire)\n",
    "    #     for wire in range(len(layer)):\n",
    "    #         qml.CNOT(wires=[wire, (wire+1)%len(layer)])\n",
    "\n",
    "\n",
    "\n",
    "\n",
    "\n",
    "    \n",
    "    \n",
    "    # for i in range(len(params)): #depth\n",
    "    #     for j in range(len(params[i])): #n_qubits\n",
    "    #         qml.RY(params[i][j], wires=j)\n",
    "    #         qml.CNOT(wires=[j, (j+1) % len(params[i])])\n",
    "\n",
    "    # n_qubits = len(params[0])\n",
    "    # depth = len(params)\n",
    "\n",
    "    # # for i in range(depth):\n",
    "    # #     for j in range(n_qubits):\n",
    "            \n",
    "\n",
    "    # for i in range(depth):\n",
    "    #         # qml.RY(params[i][j], wires=j)\n",
    "    #     for j in range(n_qubits):\n",
    "    #         qml.RY(params[i][j], wires=j)\n",
    "    #         qml.CNOT(wires=[j, (j+1) % n_qubits])"
   ]
  },
  {
   "cell_type": "code",
   "execution_count": 4,
   "id": "f9344f3b-0760-4436-ae61-f45954d688d5",
   "metadata": {},
   "outputs": [],
   "source": [
    "params = [[[1.0472, 0.7854, 3.1416, 0.3927],\n",
    "               [1.0472, 0.7854, 3.1416, 0.5236]],\n",
    "               [[1.0472, 0.7854, 1.5708, 0.3927],\n",
    "               [0.7854, 0.7854, 1.5708, 0.7854]]],"
   ]
  },
  {
   "cell_type": "code",
   "execution_count": 5,
   "id": "ea04d6fa-609a-4882-84c6-f71fb1d1648d",
   "metadata": {},
   "outputs": [
    {
     "name": "stdout",
     "output_type": "stream",
     "text": [
      "1\n",
      "2\n",
      "2\n",
      "4\n"
     ]
    }
   ],
   "source": [
    "print(len(params))\n",
    "print(len(params[0]))\n",
    "print(len(params[0][0]))\n",
    "print(len(params[0][0][0]))"
   ]
  },
  {
   "cell_type": "code",
   "execution_count": 6,
   "id": "f3523de7-8adf-4de9-ac83-dbd26a8daede",
   "metadata": {},
   "outputs": [
    {
     "name": "stdout",
     "output_type": "stream",
     "text": [
      "0\n",
      "0\n"
     ]
    }
   ],
   "source": [
    "for i in range(len(params)):\n",
    "    for j in range(len(params[i]) - 1):\n",
    "        print(i)\n",
    "        print(j)"
   ]
  },
  {
   "cell_type": "code",
   "execution_count": 7,
   "id": "38808d68-0fee-415e-987a-7d96cb729b78",
   "metadata": {},
   "outputs": [
    {
     "name": "stdout",
     "output_type": "stream",
     "text": [
      "[[[1.0472, 0.7854, 3.1416, 0.3927], [1.0472, 0.7854, 3.1416, 0.5236]], [[1.0472, 0.7854, 1.5708, 0.3927], [0.7854, 0.7854, 1.5708, 0.7854]]]\n"
     ]
    }
   ],
   "source": [
    "print(params[0])"
   ]
  },
  {
   "cell_type": "code",
   "execution_count": 8,
   "id": "f12600f1-9a08-4846-8577-46ab8f024111",
   "metadata": {},
   "outputs": [
    {
     "name": "stdout",
     "output_type": "stream",
     "text": [
      "[[1.0472, 0.7854, 3.1416, 0.3927], [1.0472, 0.7854, 3.1416, 0.5236]]\n",
      "[[1.0472, 0.7854, 1.5708, 0.3927], [0.7854, 0.7854, 1.5708, 0.7854]]\n"
     ]
    }
   ],
   "source": [
    "print(params[0][0])\n",
    "print(params[0][1])"
   ]
  },
  {
   "cell_type": "code",
   "execution_count": 9,
   "id": "95d0a040-cb95-448c-aec9-1eff49992d65",
   "metadata": {},
   "outputs": [
    {
     "name": "stdout",
     "output_type": "stream",
     "text": [
      "[1.0472, 0.7854, 3.1416, 0.3927]\n",
      "[1.0472, 0.7854, 3.1416, 0.5236]\n",
      "[1.0472, 0.7854, 1.5708, 0.3927]\n",
      "[0.7854, 0.7854, 1.5708, 0.7854]\n"
     ]
    }
   ],
   "source": [
    "print(params[0][0][0])\n",
    "print(params[0][0][1])\n",
    "print(params[0][1][0])\n",
    "print(params[0][1][1])"
   ]
  },
  {
   "cell_type": "code",
   "execution_count": 10,
   "id": "71d4a3b8-26c0-47df-a0fe-2421971ad598",
   "metadata": {},
   "outputs": [
    {
     "name": "stdout",
     "output_type": "stream",
     "text": [
      "<class 'pennylane.ops.qubit.non_parametric_ops.PauliX'>\n"
     ]
    },
    {
     "data": {
      "text/plain": [
       "PauliX(wires=[0])"
      ]
     },
     "execution_count": 10,
     "metadata": {},
     "output_type": "execute_result"
    }
   ],
   "source": [
    "# for i in range(len(params[0][0])):\n",
    "#     # print(i)\n",
    "#     # print(params[0][i])\n",
    "#     for j in range(len(params[0][0][0])):\n",
    "#         print(params[0][i][j])\n",
    "\n",
    "print(getattr(qml, 'PauliX'))\n",
    "\n",
    "g_gate = getattr(qml, 'PauliX')\n",
    "g_gate(wires=i)"
   ]
  },
  {
   "cell_type": "code",
   "execution_count": 11,
   "id": "aacadd18-448e-4237-91d7-765261d02469",
   "metadata": {},
   "outputs": [],
   "source": [
    "def S(g, x, num_wires):\n",
    "    for i in range(num_wires):\n",
    "        # g(wires=i)\n",
    "        # if g == 'PauliX':\n",
    "        if g == qml.PauliX:\n",
    "            # qml.RX(-2 * x, wires=i)\n",
    "            qml.RX(-2 * x, wires=i)\n",
    "        # if g == 'PauliY':\n",
    "        if g == qml.PauliY:\n",
    "            # qml.RY(-2 * x, wires=i)\n",
    "            qml.RY(-2 * x, wires=i)\n"
   ]
  },
  {
   "cell_type": "code",
   "execution_count": 12,
   "id": "6af7ae18-5620-4cf6-835d-3cf4e2f0a8a7",
   "metadata": {},
   "outputs": [
    {
     "name": "stderr",
     "output_type": "stream",
     "text": [
      "/home/dalopezm/miniconda3/envs/SPIE2024-GPU/lib/python3.10/site-packages/pennylane/qnode.py:400: UserWarning: Received gradient_kwarg level, which is not included in the list of standard qnode gradient kwargs.\n",
      "  warnings.warn(\n"
     ]
    }
   ],
   "source": [
    "dev = qml.device('default.qubit', wires=4)\n",
    "# dev = qml.device('default.qubit', wires=2)\n",
    "\n",
    "@qml.qnode(dev, level = 'device')\n",
    "def quantum_model(param_set, g, x):\n",
    "    num_blocks = len(param_set)\n",
    "\n",
    "    for i in range(num_blocks):\n",
    "        W(param_set[i])\n",
    "\n",
    "        if i < num_blocks - 1:\n",
    "            S(g, x, len(param_set[i][0]))\n",
    "    # for i in range(len(param_set)):\n",
    "        \n",
    "    #     W(param_set)\n",
    "    #     if i < num_layers:\n",
    "    #         S(g, x, len(param_set[0][0]))\n",
    "    return qml.probs(wires=0)"
   ]
  },
  {
   "cell_type": "code",
   "execution_count": 13,
   "id": "ea9655cb-1bb2-4035-beec-300f9aada868",
   "metadata": {},
   "outputs": [
    {
     "name": "stdout",
     "output_type": "stream",
     "text": [
      "1\n",
      "2\n",
      "2\n"
     ]
    }
   ],
   "source": [
    "num_layers = len(params)\n",
    "# print(num_layers)\n",
    "print(num_layers)\n",
    "\n",
    "for i, layer in enumerate(params):\n",
    "    # print(layer)\n",
    "    # print(len(layer))\n",
    "    # print(i)\n",
    "    print(len(layer))\n",
    "    print(len(layer[0]))"
   ]
  },
  {
   "cell_type": "code",
   "execution_count": 14,
   "id": "2eb06942-9ea6-4c00-a49b-107c4abc5e4a",
   "metadata": {},
   "outputs": [
    {
     "data": {
      "image/png": "[encoded data removed]",
      "text/plain": [
       "<Figure size 2400x500 with 1 Axes>"
      ]
     },
     "metadata": {},
     "output_type": "display_data"
    }
   ],
   "source": [
    "test_input = [[[1.0472, 0.7854, 3.1416, 0.3927],[1.0472, 0.7854, 3.1416, 0.5236]], [[1.0472, 0.7854, 1.5708, 0.3927], [0.7854, 0.7854, 1.5708, 0.7854]]]\n",
    "\n",
    "g_string = \"PauliX\"\n",
    "g_string = getattr(qml, g_string)\n",
    "\n",
    "x_scalar = 0.7854\n",
    "\n",
    "test_input_2 = [[[0.62832, 0.3927, 1.0472, 0.7854],\n",
    "                    [0.7854, 0.31416, 0.62832, 0.5236]],\n",
    "                    [[0.31416, 0.7854, 0.7854, 0.3927],\n",
    "                    [0.31416, 0.3927, 0.31416, 0.3927]]]\n",
    "\n",
    "g_string_2 = \"PauliY\"\n",
    "g_string_2 = getattr(qml, g_string_2)\n",
    "\n",
    "x_scalar_2 = 0.5236\n",
    "\n",
    "fig, ax = qml.draw_mpl(quantum_model)(test_input, g_string, x_scalar)\n",
    "# fig, ax = qml.draw_mpl(quantum_model)(test_input_2, g_string_2, x_scalar_2)\n",
    "plt.show()"
   ]
  },
  {
   "cell_type": "code",
   "execution_count": 15,
   "id": "a9929f85-a15a-4bab-b051-d0753e978d34",
   "metadata": {},
   "outputs": [
    {
     "name": "stdout",
     "output_type": "stream",
     "text": [
      "probs on wire 0: [0.46652954 0.53347046]\n",
      "shape: (2,)\n"
     ]
    }
   ],
   "source": [
    "output = quantum_model(test_input, g_string, x_scalar)\n",
    "# output = quantum_model(test_input_2, g_string_2, x_scalar_2)\n",
    "print('probs on wire 0:', output)\n",
    "print('shape:', output.shape)"
   ]
  },
  {
   "cell_type": "code",
   "execution_count": null,
   "id": "9428a571-4566-45c7-b8d2-fd1ca6022dad",
   "metadata": {},
   "outputs": [],
   "source": []
  },
  {
   "cell_type": "code",
   "execution_count": null,
   "id": "76242d99-9cae-4cb8-95f3-7004737c0340",
   "metadata": {},
   "outputs": [],
   "source": []
  },
  {
   "cell_type": "code",
   "execution_count": null,
   "id": "0c9d782e-660e-48b1-940e-d485f7cd15c5",
   "metadata": {},
   "outputs": [],
   "source": []
  },
  {
   "cell_type": "code",
   "execution_count": null,
   "id": "9fdcec7b-625d-4df2-b2cd-6829efbccf7b",
   "metadata": {},
   "outputs": [],
   "source": []
  },
  {
   "cell_type": "code",
   "execution_count": null,
   "id": "78f25816-d6a8-40eb-9b2e-88d526a1c333",
   "metadata": {},
   "outputs": [],
   "source": []
  },
  {
   "cell_type": "code",
   "execution_count": null,
   "id": "95435da7-302e-4d7d-99df-9df6a53fb5c8",
   "metadata": {},
   "outputs": [],
   "source": []
  },
  {
   "cell_type": "code",
   "execution_count": null,
   "id": "ff42280c-19d8-4803-a9f7-c6df8dead7b2",
   "metadata": {},
   "outputs": [],
   "source": []
  },
  {
   "cell_type": "code",
   "execution_count": null,
   "id": "5cf7968a-1a05-44ab-a97a-9d40c260dafe",
   "metadata": {},
   "outputs": [],
   "source": []
  },
  {
   "cell_type": "code",
   "execution_count": null,
   "id": "beb9d94e-2a6b-4ac4-8398-4bb5a64fc061",
   "metadata": {},
   "outputs": [],
   "source": []
  },
  {
   "cell_type": "code",
   "execution_count": null,
   "id": "6538376f-a95f-448c-a608-4c401e5c21d7",
   "metadata": {},
   "outputs": [],
   "source": []
  },
  {
   "cell_type": "code",
   "execution_count": null,
   "id": "0fd2b8ac-2c98-4f7c-90e9-a724979b0686",
   "metadata": {},
   "outputs": [],
   "source": []
  },
  {
   "cell_type": "code",
   "execution_count": null,
   "id": "579ca2f3-16bb-4c59-96e8-d3b6d8320e6b",
   "metadata": {},
   "outputs": [],
   "source": []
  },
  {
   "cell_type": "code",
   "execution_count": null,
   "id": "e75c005e-2b2c-4b5a-b81b-59766938defe",
   "metadata": {},
   "outputs": [],
   "source": [
    "# !pip install pennylane"
   ]
  },
  {
   "cell_type": "code",
   "execution_count": null,
   "id": "08688261-416a-4113-99fe-8bb0679150a1",
   "metadata": {},
   "outputs": [],
   "source": [
    "# load MNIST and filter digits 0 and 1\n",
    "# transform = torchvision.transforms.Compose([torchvision.transforms.ToTensor()])\n",
    "# trainset = torchvision.datasets.MNIST(root='./data', train=True, download=True, transform=transform)\n",
    "# testset = torchvision.datasets.MNIST(root='./data', train=False, download=True, transform=transform)"
   ]
  },
  {
   "cell_type": "code",
   "execution_count": null,
   "id": "42902d99-ce98-4f1b-9369-25c88a01f8c0",
   "metadata": {},
   "outputs": [],
   "source": [
    "digits = load_digits(n_class=2)\n",
    "X = digits.data\n",
    "y = digits.target"
   ]
  },
  {
   "cell_type": "code",
   "execution_count": null,
   "id": "12629cae-8cb2-4cfe-874b-b8be2809a8e1",
   "metadata": {},
   "outputs": [],
   "source": [
    "X = StandardScaler().fit_transform(X)\n",
    "X = X[:, :4]\n",
    "\n",
    "X_train, X_val, y_train, y_val = train_test_split(X, y, test_size=0.2, random_state=42)\n",
    "# #filter labels 0 and 1\n",
    "# train_data = [(x,y) for x, y in trainset if y in [0, 1]]\n",
    "# test_data = [(x, y) for x, y in testset if y in [0, 1]]\n",
    "\n",
    "# # flatten images and normalize\n",
    "# X_train = torch.stack([x.flatten() for x, y in train_data]).numpy()\n",
    "# y_train = np.array([y for x, y in train_data], dtype=int)\n",
    "# X_test = torch.stack([x.flatten() for x, y in test_data]).numpy()\n",
    "# y_test = np.array([y for x, y in test_data], dtype=int)\n",
    "\n",
    "# X_train_dv = X_train * np.pi / 255.0\n",
    "# X_train_cv = X_train / 255.0\n",
    "# X_test_dv = X_test * np.pi / 255.0\n",
    "# X_test_cv = X_test / 255.0"
   ]
  },
  {
   "cell_type": "code",
   "execution_count": null,
   "id": "5f9e90ad-93b9-40d0-b35a-d4b6006f8050",
   "metadata": {},
   "outputs": [],
   "source": [
    "n_qubits = 4\n",
    "n_layers = 3\n",
    "dev = qml.device('default.qubit', wires=n_qubits)\n",
    "\n",
    "def layer(x, w):\n",
    "    for i in range(n_qubits):\n",
    "        qml.RY(x[i], wires=i)\n",
    "        qml.RY(w[i], wires=i)\n",
    "    for i in range(n_qubits):\n",
    "        qml.CNOT(wires=[i, (i + 1) % n_qubits])\n",
    "\n",
    "@qml.qnode(dev)\n",
    "def dv_circuit(x, weights):\n",
    "    for l in range(n_layers):\n",
    "        layer(x, weights[l])\n",
    "    return qml.expval(qml.PauliZ(0))"
   ]
  },
  {
   "cell_type": "code",
   "execution_count": null,
   "id": "eda49a11-e4b2-4964-a7fb-732fb03d6bef",
   "metadata": {},
   "outputs": [],
   "source": [
    "sample_x = X_train[0]\n",
    "sample_weights = np.random.randn(n_layers, n_qubits)\n",
    "\n",
    "drawer = qml.draw_mpl(dv_circuit)\n",
    "drawer(sample_x, sample_weights)"
   ]
  },
  {
   "cell_type": "code",
   "execution_count": null,
   "id": "5235e0c3-a8c6-4ec3-a7d1-3276b598cfa9",
   "metadata": {},
   "outputs": [],
   "source": [
    "def mse_loss(y_true, y_pred):\n",
    "    return np.mean((y_true - y_pred) ** 2)\n",
    "\n",
    "def accuracy(y_true, y_pred):\n",
    "    return np.mean(np.round(y_pred) == y_true)"
   ]
  },
  {
   "cell_type": "code",
   "execution_count": null,
   "id": "590a30cd-b43c-44a2-bcca-4d335da4d522",
   "metadata": {},
   "outputs": [],
   "source": [
    "weights = 0.01 * np.random.randn(n_layers, n_qubits, requires_grad=True)\n",
    "opt = qml.AdamOptimizer(stepsize=0.01)\n",
    "epochs = 100\n",
    "batch_size = 32\n",
    "\n",
    "train_loss_hist, val_loss_hist = [], []\n",
    "train_acc_hist, val_acc_hist = [], []\n",
    "\n",
    "for epoch in range(epochs):\n",
    "    permutation = np.random.permutation(len(X_train))\n",
    "    X_train_shuffled = X_train[permutation]\n",
    "    y_train_shuffled = y_train[permutation]\n",
    "\n",
    "    epoch_loss = 0\n",
    "    batch_bar = tqdm(\n",
    "        range(0, len(X_train), batch_size),\n",
    "        desc=f'Epoch {epoch+1}/{epochs}',\n",
    "        leave=False\n",
    "    )\n",
    "\n",
    "    # for i in range(0, len(X_train), batch_size):\n",
    "    for i in batch_bar:\n",
    "        X_batch = X_train_shuffled[i:i+batch_size]\n",
    "        y_batch = y_train_shuffled[i:i+batch_size]\n",
    "\n",
    "        def cost(w):\n",
    "            preds = [dv_circuit(x, w) for x in X_batch]\n",
    "            return mse_loss(y_batch, np.array(preds))\n",
    "\n",
    "        # weights, batch_loss = opt.step(cost, weights)\n",
    "        weights, batch_loss = opt.step_and_cost(cost, weights)\n",
    "        epoch_loss += batch_loss\n",
    "\n",
    "        batch_bar.set_postfix(batch_loss=f'{batch_loss:.4f}')\n",
    "\n",
    "    train_preds = np.array([dv_circuit(x, weights) for x in X_train])\n",
    "    val_preds = np.array([dv_circuit(x, weights) for x in X_val])\n",
    "\n",
    "    train_loss = mse_loss(y_train, train_preds)\n",
    "    val_loss = mse_loss(y_val, val_preds)\n",
    "    train_acc = accuracy(y_train, train_preds)\n",
    "    val_acc = accuracy(y_val, val_preds)\n",
    "\n",
    "    train_loss_hist.append(train_loss)\n",
    "    val_loss_hist.append(val_loss)\n",
    "    train_acc_hist.append(train_acc)\n",
    "    val_acc_hist.append(val_acc)\n",
    "\n",
    "    print(f'epoch {epoch+1}/{epochs} | train loss: {train_loss:.4f} | val loss: {val_loss:.4f} | train acc: {train_acc:.4f} | val acc: {val_acc:.4f}')\n",
    "    "
   ]
  },
  {
   "cell_type": "code",
   "execution_count": null,
   "id": "97ab38fc-abd2-48b0-93e1-a9b67dbfb495",
   "metadata": {},
   "outputs": [],
   "source": [
    "plt.figure(figsize=(12, 5))\n",
    "\n",
    "plt.subplot(1, 2, 1)\n",
    "plt.plot(train_loss_hist, label='train loss')\n",
    "plt.plot(val_loss_hist, label='val loss')\n",
    "plt.xlabel('epoch')\n",
    "plt.ylabel('mse loss')\n",
    "plt.grid(True)\n",
    "plt.legend()\n",
    "\n",
    "plt.subplot(1,2,2)\n",
    "plt.plot(train_acc_hist, label= 'train acc')\n",
    "plt.plot(val_acc_hist, label='val acc')\n",
    "plt.xlabel('epoch')\n",
    "plt.ylabel('acc')\n",
    "plt.grid(True)\n",
    "plt.legend()\n",
    "\n",
    "plt.tight_layout()\n",
    "plt.show()"
   ]
  },
  {
   "cell_type": "code",
   "execution_count": null,
   "id": "5447adeb-2078-4e97-b17a-e27b223f23ca",
   "metadata": {},
   "outputs": [],
   "source": []
  }
 ],
 "metadata": {
  "kernelspec": {
   "display_name": "SPIE2024-GPU",
   "language": "python",
   "name": "spie2024-gpu"
  },
  "language_info": {
   "codemirror_mode": {
    "name": "ipython",
    "version": 3
   },
   "file_extension": ".py",
   "mimetype": "text/x-python",
   "name": "python",
   "nbconvert_exporter": "python",
   "pygments_lexer": "ipython3",
   "version": "3.10.14"
  }
 },
 "nbformat": 4,
 "nbformat_minor": 5
}
