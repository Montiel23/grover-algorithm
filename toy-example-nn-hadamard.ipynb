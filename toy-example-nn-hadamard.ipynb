{
 "cells": [
  {
   "cell_type": "code",
   "execution_count": 59,
   "id": "953c0a76-7472-4d5d-9660-b10aeac7ee54",
   "metadata": {},
   "outputs": [],
   "source": [
    "import pandas as pd\n",
    "import numpy as np\n",
    "import matplotlib.pyplot as plt"
   ]
  },
  {
   "cell_type": "code",
   "execution_count": 60,
   "id": "fa28fba9-77ee-4a53-acbd-98e98492e81c",
   "metadata": {},
   "outputs": [
    {
     "data": {
      "text/html": [
       "<div>\n",
       "<style scoped>\n",
       "    .dataframe tbody tr th:only-of-type {\n",
       "        vertical-align: middle;\n",
       "    }\n",
       "\n",
       "    .dataframe tbody tr th {\n",
       "        vertical-align: top;\n",
       "    }\n",
       "\n",
       "    .dataframe thead th {\n",
       "        text-align: right;\n",
       "    }\n",
       "</style>\n",
       "<table border=\"1\" class=\"dataframe\">\n",
       "  <thead>\n",
       "    <tr style=\"text-align: right;\">\n",
       "      <th></th>\n",
       "      <th>Passengers</th>\n",
       "      <th>Raw price</th>\n",
       "      <th>Raw cabin</th>\n",
       "      <th>Processed price</th>\n",
       "      <th>Processed cabin</th>\n",
       "      <th>Survival</th>\n",
       "    </tr>\n",
       "  </thead>\n",
       "  <tbody>\n",
       "    <tr>\n",
       "      <th>0</th>\n",
       "      <td>Passenger1</td>\n",
       "      <td>8500</td>\n",
       "      <td>910</td>\n",
       "      <td>0.85</td>\n",
       "      <td>0.36</td>\n",
       "      <td>1</td>\n",
       "    </tr>\n",
       "    <tr>\n",
       "      <th>1</th>\n",
       "      <td>Passenger2</td>\n",
       "      <td>1200</td>\n",
       "      <td>2105</td>\n",
       "      <td>0.12</td>\n",
       "      <td>0.84</td>\n",
       "      <td>0</td>\n",
       "    </tr>\n",
       "    <tr>\n",
       "      <th>2</th>\n",
       "      <td>Passenger3</td>\n",
       "      <td>7800</td>\n",
       "      <td>1121</td>\n",
       "      <td>0.78</td>\n",
       "      <td>0.45</td>\n",
       "      <td>NaN</td>\n",
       "    </tr>\n",
       "  </tbody>\n",
       "</table>\n",
       "</div>"
      ],
      "text/plain": [
       "   Passengers  Raw price  Raw cabin  Processed price  Processed cabin Survival\n",
       "0  Passenger1       8500        910             0.85             0.36        1\n",
       "1  Passenger2       1200       2105             0.12             0.84        0\n",
       "2  Passenger3       7800       1121             0.78             0.45      NaN"
      ]
     },
     "execution_count": 60,
     "metadata": {},
     "output_type": "execute_result"
    }
   ],
   "source": [
    "data = {\n",
    "    'Passengers': ['Passenger1', 'Passenger2', 'Passenger3'],\n",
    "    'Raw price': [8500, 1200, 7800],\n",
    "    'Raw cabin': [910, 2105, 1121],\n",
    "    'Processed price': [0.85, 0.12, 0.78],\n",
    "    'Processed cabin': [0.36, 0.84, 0.45],\n",
    "    'Survival': [1, 0, 'NaN']\n",
    "}\n",
    "\n",
    "df = pd.DataFrame(data)\n",
    "df"
   ]
  },
  {
   "cell_type": "markdown",
   "id": "8b767075-e5ed-4c14-9b0b-5b647d862de1",
   "metadata": {},
   "source": [
    "Each vector represents a passenger of the Titanic, and specifies two features of the passenger. The price in dollars for the ticket, and the passenger's cabin number. Assuming the ticket price is between 0 and 10000 dollars, and the cabin numbers range from 1 and 2500. Each input vecotr is assigned a label that indicates if the passenger survived. The task is to find the probability of the third passenger of surviving. As done in machine learning, the data must be preprocessed to project it onto rouglhly the same scales. This is done by imposing zero mean and unit variance, so we rescale the range of possible ticket prices and cabin numbers to the interval (0,1) and round the values by two decimal digits. \n",
    "\n",
    "The simplest machine learning model is nearest neighbor. When a new input is given the same label as the data point closest to it is provided. The closenes is defined by a distance measure for example, Euclidean distance between data points."
   ]
  },
  {
   "cell_type": "code",
   "execution_count": 61,
   "id": "5fd79c16-4837-4e72-9e62-4251d31cb2fa",
   "metadata": {},
   "outputs": [],
   "source": [
    "# df['Raw price'] = df['Raw price'] / 10000\n",
    "# df['Raw cabin'] = round(df['Raw cabin'] / 2500, 2)"
   ]
  },
  {
   "cell_type": "code",
   "execution_count": 62,
   "id": "cc25261e-7f38-4ed6-b539-c4db8d85f06a",
   "metadata": {},
   "outputs": [
    {
     "data": {
      "image/png": "[encoded data removed]",
      "text/plain": [
       "<Figure size 640x480 with 1 Axes>"
      ]
     },
     "metadata": {},
     "output_type": "display_data"
    }
   ],
   "source": [
    "proc_price = df['Processed price'].to_numpy()\n",
    "proc_cabin = df['Processed cabin'].to_numpy()\n",
    "\n",
    "plt.scatter(proc_price, proc_cabin, color='blue', label='Passengers')\n",
    "plt.xlabel('Ticket price')\n",
    "plt.ylabel('Cabin number')\n",
    "plt.xlim((0,1))\n",
    "plt.ylim((0,1))\n",
    "plt.legend()\n",
    "plt.show()"
   ]
  },
  {
   "attachments": {},
   "cell_type": "markdown",
   "id": "53745fc5-1403-43c7-88cd-f69e8a8eef0f",
   "metadata": {},
   "source": [
    "First more data preprocessing and data encoding is necessary. The values get normalized to one by projecting them onto a unit circle with a radius of one, this is attained by ensuring that the sum of their square values equal 1. This is to convert each feature to a unit length vector, by dividing the feature by the square sum of all features. The way this is done is by computing the Euclidean norm for each row across the two features of the price and cabin, then dividing each value in the row by this row-specific norm. This ensures that the length of each individual passenger is one, projecting it onto a unit circle.\n",
    "\n",
    "The formula is\n",
    "$$\n",
    "norm = \\sqrt{price^{2} + cabin^{2}}\n",
    "$$\n",
    "\n",
    "This then divides each value in the row by this norm"
   ]
  },
  {
   "cell_type": "code",
   "execution_count": 63,
   "id": "c8298315-306c-4537-84e6-ad8ebeaf3f18",
   "metadata": {},
   "outputs": [],
   "source": [
    "df['Vector Norm'] = np.sqrt(df['Processed price']**2 + df['Processed cabin']**2)\n",
    "df['Normalized price'] = round(df['Processed price'] / df['Vector Norm'], 3)\n",
    "df['Normalized cabin'] = round(df['Processed cabin'] / df['Vector Norm'], 3)\n",
    "\n",
    "df = df.drop(columns=['Vector Norm'])"
   ]
  },
  {
   "cell_type": "code",
   "execution_count": 64,
   "id": "fa030455-cd97-490f-8e7e-67d7067e1bed",
   "metadata": {},
   "outputs": [
    {
     "data": {
      "text/html": [
       "<div>\n",
       "<style scoped>\n",
       "    .dataframe tbody tr th:only-of-type {\n",
       "        vertical-align: middle;\n",
       "    }\n",
       "\n",
       "    .dataframe tbody tr th {\n",
       "        vertical-align: top;\n",
       "    }\n",
       "\n",
       "    .dataframe thead th {\n",
       "        text-align: right;\n",
       "    }\n",
       "</style>\n",
       "<table border=\"1\" class=\"dataframe\">\n",
       "  <thead>\n",
       "    <tr style=\"text-align: right;\">\n",
       "      <th></th>\n",
       "      <th>Passengers</th>\n",
       "      <th>Raw price</th>\n",
       "      <th>Raw cabin</th>\n",
       "      <th>Processed price</th>\n",
       "      <th>Processed cabin</th>\n",
       "      <th>Survival</th>\n",
       "      <th>Normalized price</th>\n",
       "      <th>Normalized cabin</th>\n",
       "    </tr>\n",
       "  </thead>\n",
       "  <tbody>\n",
       "    <tr>\n",
       "      <th>0</th>\n",
       "      <td>Passenger1</td>\n",
       "      <td>8500</td>\n",
       "      <td>910</td>\n",
       "      <td>0.85</td>\n",
       "      <td>0.36</td>\n",
       "      <td>1</td>\n",
       "      <td>0.921</td>\n",
       "      <td>0.39</td>\n",
       "    </tr>\n",
       "    <tr>\n",
       "      <th>1</th>\n",
       "      <td>Passenger2</td>\n",
       "      <td>1200</td>\n",
       "      <td>2105</td>\n",
       "      <td>0.12</td>\n",
       "      <td>0.84</td>\n",
       "      <td>0</td>\n",
       "      <td>0.141</td>\n",
       "      <td>0.99</td>\n",
       "    </tr>\n",
       "    <tr>\n",
       "      <th>2</th>\n",
       "      <td>Passenger3</td>\n",
       "      <td>7800</td>\n",
       "      <td>1121</td>\n",
       "      <td>0.78</td>\n",
       "      <td>0.45</td>\n",
       "      <td>NaN</td>\n",
       "      <td>0.866</td>\n",
       "      <td>0.50</td>\n",
       "    </tr>\n",
       "  </tbody>\n",
       "</table>\n",
       "</div>"
      ],
      "text/plain": [
       "   Passengers  Raw price  Raw cabin  Processed price  Processed cabin  \\\n",
       "0  Passenger1       8500        910             0.85             0.36   \n",
       "1  Passenger2       1200       2105             0.12             0.84   \n",
       "2  Passenger3       7800       1121             0.78             0.45   \n",
       "\n",
       "  Survival  Normalized price  Normalized cabin  \n",
       "0        1             0.921              0.39  \n",
       "1        0             0.141              0.99  \n",
       "2      NaN             0.866              0.50  "
      ]
     },
     "execution_count": 64,
     "metadata": {},
     "output_type": "execute_result"
    }
   ],
   "source": [
    "df"
   ]
  },
  {
   "cell_type": "markdown",
   "id": "4bb32542-f5e6-4938-adb8-48080e270402",
   "metadata": {},
   "source": [
    "Aditionally, the dataset is to be amplitude encoded. We have six features to encode and two class labels. We need three qubits to have 8 different measurement results $2^{n}$. Each measurement result is associated with an amplitude whose absolute square gives the probability of the result being observed. Amplitude encoding writes values of features into amplitudes and uses operations such as Hadamard transform to perform computations on the features, for instance additions and substractions.\n",
    "\n",
    "The amplitude vector we need is equivalent to the vector constructed by concatenating the features of passengers 1 and 2, as well as two copies of the features of passenger 3, written as:\n",
    "\n",
    "$\\alpha = \\frac{1}{\\sqrt{4}}(0.921, 0.39, 0.141, 0.99, 0.866, 0.5, 0.866, 0.5)^{T}$\n",
    "\n",
    "The absolute square of al amplitudes has to sum up to 1, which is why we had to include another scaling or normalization factor of $1/\\sqrt{4}$ for the 4 data points. We now extend to a fourth qubit. For each feature encoded in an amplitude, the fourth qubit is the state that corresponds to the label of that feature vector. Since there is no target for the new input, the first copy and second copies associate with passengers 1 and 2, but other choices would work too. Adding the fourth qubit effectively pads the amplitude vector by some intermittent zeros\n",
    "\n",
    "$\\alpha = \\frac{1}{\\sqrt{4}}(0, 0.921, 0, 0.39, 0.141, 0, 0.99, 0,0,0.8666, 0, 0.5, 0.866, 0, 0.5, 0)^{T}$"
   ]
  },
  {
   "cell_type": "code",
   "execution_count": null,
   "id": "05057437-2e37-4ef5-9eae-a60b02698c43",
   "metadata": {},
   "outputs": [],
   "source": [
    "import pennylane as qml\n",
    "\n"
   ]
  },
  {
   "cell_type": "markdown",
   "id": "3e15d498-f7ed-46cd-ab24-c72b77a113e9",
   "metadata": {},
   "source": [
    "We now multiply the amplitude vector by the Hadamard matrix. The result of the Hadamart gate computes the sums and differences between blocks of amplitudes, between the copies of the new input ot every training input."
   ]
  },
  {
   "cell_type": "code",
   "execution_count": null,
   "id": "db3e8580-332b-4806-b724-6d8e2582e172",
   "metadata": {},
   "outputs": [],
   "source": []
  }
 ],
 "metadata": {
  "kernelspec": {
   "display_name": "SPIE2024-GPU",
   "language": "python",
   "name": "spie2024-gpu"
  },
  "language_info": {
   "codemirror_mode": {
    "name": "ipython",
    "version": 3
   },
   "file_extension": ".py",
   "mimetype": "text/x-python",
   "name": "python",
   "nbconvert_exporter": "python",
   "pygments_lexer": "ipython3",
   "version": "3.10.14"
  }
 },
 "nbformat": 4,
 "nbformat_minor": 5
}
