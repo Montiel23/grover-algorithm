{
 "cells": [
  {
   "cell_type": "markdown",
   "id": "9fdad37b-2ef2-4b77-9fd9-3825e902bc10",
   "metadata": {},
   "source": [
    "# Test Backend simulatori instalation with monitor\n",
    "### Dr. Oscar Montiel\n",
    "#### Nov 27, 2024"
   ]
  },
  {
   "cell_type": "code",
   "execution_count": null,
   "id": "70830943-7d3b-479e-b462-0a49f79c3db5",
   "metadata": {},
   "outputs": [],
   "source": [
    "# Import required libraries\n",
    "from qiskit_ibm_runtime import QiskitRuntimeService, Sampler, Session\n",
    "#from qiskit import QuantumCircuit, transpile\n",
    "\n",
    "#from qiskit_ibm_runtime import QiskitRuntimeService, Sampler, JobStatus\n",
    "from qiskit import QuantumCircuit, transpile\n",
    "import time\n",
    "import logging"
   ]
  },
  {
   "cell_type": "code",
   "execution_count": null,
   "id": "fe10fd68-4c18-417d-957f-e4285590f8f2",
   "metadata": {},
   "outputs": [],
   "source": [
    "# Step 1: Enable detailed logging for advanced monitoring\n",
    "logging.basicConfig(level=logging.INFO)  # Enables INFO level logging for detailed updates"
   ]
  },
  {
   "cell_type": "code",
   "execution_count": null,
   "id": "a0d34c9e-3845-440f-bafa-515a80aa6159",
   "metadata": {},
   "outputs": [],
   "source": [
    "# Step 2: Check if the API token is already saved\n",
    "try:\n",
    "    # Attempt to load the saved account\n",
    "    service = QiskitRuntimeService()\n",
    "    print(\"IBM Quantum account loaded successfully.\")\n",
    "except Exception:\n",
    "    # If the account is not saved, prompt the user to save it\n",
    "    print(\"IBM Quantum account not found. Saving the API token.\")\n",
    "    token = input(\"Enter your IBM Quantum API token: \")\n",
    "    QiskitRuntimeService.save_account(channel=\"ibm_quantum\", token=token, overwrite=True)\n",
    "    service = QiskitRuntimeService()\n",
    "    print(\"IBM Quantum account saved and loaded successfully.\")"
   ]
  },
  {
   "cell_type": "code",
   "execution_count": null,
   "id": "2ceee5ee-bc4d-41dd-ae71-9c8e021fd4a9",
   "metadata": {},
   "outputs": [],
   "source": [
    "# Step 3: List available backends\n",
    "print(\"\\nAvailable Backends:\")\n",
    "print(service.backends())"
   ]
  },
  {
   "cell_type": "code",
   "execution_count": null,
   "id": "5f34aba7-ed89-447b-836f-ffc3834daa1c",
   "metadata": {},
   "outputs": [],
   "source": [
    "# Step 4: Select a backend\n",
    "backend_name = \"ibm_brisbane\"  # Replace with your desired backend\n",
    "backend = service.backend(backend_name)  # Assign the backend using the name\n",
    "print(f\"\\nSelected Backend: {backend_name}\")"
   ]
  },
  {
   "cell_type": "code",
   "execution_count": null,
   "id": "d588c896-3797-432d-b769-da16f8e64f22",
   "metadata": {},
   "outputs": [],
   "source": [
    "# Step 5: Create a quantum circuit\n",
    "qc = QuantumCircuit(1, 1)  # 1 qubit, 1 classical bit\n",
    "qc.h(0)  # Apply a Hadamard gate to the qubit\n",
    "qc.measure(0, 0)  # Measure the qubit into the classical bit"
   ]
  },
  {
   "cell_type": "code",
   "execution_count": null,
   "id": "e6ab0e4a-b82d-454d-bbc8-4e1599092495",
   "metadata": {},
   "outputs": [],
   "source": [
    "# Print the circuit (optional visualization)\n",
    "print(\"\\nQuantum Circuit:\")\n",
    "print(qc)"
   ]
  },
  {
   "cell_type": "code",
   "execution_count": null,
   "id": "9ddd0056-b874-44e2-8ab5-e9be30504756",
   "metadata": {},
   "outputs": [],
   "source": [
    "# Step 6: Transpile the circuit for the selected backend\n",
    "compiled_circuit = transpile(qc, backend)\n",
    "print(\"\\nTranspiled Circuit:\")\n",
    "print(compiled_circuit)"
   ]
  },
  {
   "cell_type": "code",
   "execution_count": null,
   "id": "56efd73c-19be-4162-8f20-8abc96b1af3a",
   "metadata": {},
   "outputs": [],
   "source": [
    "# Step 7: Use the Sampler primitive\n",
    "sampler = Sampler(mode=backend)  # Initialize the Sampler with the backend"
   ]
  },
  {
   "cell_type": "code",
   "execution_count": null,
   "id": "3cb0ac09-2e69-4b53-8452-0a22806fed97",
   "metadata": {},
   "outputs": [],
   "source": [
    "# Step 8: Execute the circuit with monitoring\n",
    "print(\"\\nRunning the circuit...\")\n",
    "job = sampler.run([compiled_circuit], shots=1024)  # Specify the circuits and shots\n",
    "print(f\"Job ID: {job.job_id()}\")"
   ]
  },
  {
   "cell_type": "code",
   "execution_count": null,
   "id": "1b07c077-e5c8-40c2-80ca-81e134529ab7",
   "metadata": {},
   "outputs": [],
   "source": [
    "# Monitor job status\n",
    "print(\"\\nMonitoring Job Status:\")\n",
    "\n",
    "while True:\n",
    "    status = job.status()\n",
    "    print(f\"Current Status: {status}\")\n",
    "    \n",
    "    if status == JobStatus.QUEUED:\n",
    "        print(f\"Position in Queue: {job.queue_position()}\")\n",
    "    elif status in [JobStatus.DONE, JobStatus.CANCELLED, JobStatus.ERROR]:\n",
    "        print(f\"Final Status: {status}\")\n",
    "        break\n",
    "    \n",
    "    time.sleep(10)  # Wait 10 seconds before checking again\n",
    "\n",
    "# Fetch results once the job is complete\n",
    "if job.status() == JobStatus.DONE:\n",
    "    print(\"\\nWaiting for results...\")\n",
    "    result = job.result()  # Get the results\n",
    "    counts = result.quasi_dists[0]\n",
    "    print(\"\\nResults:\")\n",
    "    print(\"Quasi-Distribution Counts:\", counts)\n",
    "\n",
    "# Print additional job information\n",
    "print(\"\\nJob Details:\")\n",
    "print(f\"Job ID: {job.job_id()}\")\n",
    "print(\"Backend:\", job.backend())\n",
    "print(\"Creation Date:\", job.creation_date())\n",
    "print(\"Final Status:\", job.status())\n"
   ]
  },
  {
   "cell_type": "code",
   "execution_count": null,
   "id": "925bf220-fef6-4a37-9f77-fa1b554f2c9a",
   "metadata": {},
   "outputs": [],
   "source": []
  }
 ],
 "metadata": {
  "kernelspec": {
   "display_name": "Python (qiskit-env)",
   "language": "python",
   "name": "qiskit-env"
  },
  "language_info": {
   "codemirror_mode": {
    "name": "ipython",
    "version": 3
   },
   "file_extension": ".py",
   "mimetype": "text/x-python",
   "name": "python",
   "nbconvert_exporter": "python",
   "pygments_lexer": "ipython3",
   "version": "3.10.15"
  }
 },
 "nbformat": 4,
 "nbformat_minor": 5
}
