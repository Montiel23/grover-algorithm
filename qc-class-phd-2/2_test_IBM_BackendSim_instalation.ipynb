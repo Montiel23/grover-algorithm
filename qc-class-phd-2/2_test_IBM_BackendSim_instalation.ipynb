{
 "cells": [
  {
   "cell_type": "markdown",
   "id": "f5a7fe04-193a-44a1-8a96-e483948664af",
   "metadata": {},
   "source": [
    "# Test Backend simulator instalation\n",
    "### Dr. Oscar Montiel\n",
    "#### Nov 27, 2024"
   ]
  },
  {
   "cell_type": "code",
   "execution_count": 1,
   "id": "cbcdd634-3c7a-4e2e-b017-987d9aaea958",
   "metadata": {},
   "outputs": [],
   "source": [
    "# Import required libraries\n",
    "from qiskit_ibm_runtime import QiskitRuntimeService, Sampler, Session\n",
    "from qiskit import QuantumCircuit, transpile"
   ]
  },
  {
   "cell_type": "markdown",
   "id": "1e16180d-f781-42fa-9890-4d1c02684495",
   "metadata": {},
   "source": [
    "### token = input(\"23575739e507a96f00e2055bd932402d8bd8684c5fd5bc46b148f0452f63b7c9c733314d6b09b24ec5f444a348409162384f77057619b2566e2c9928bf559e78\")"
   ]
  },
  {
   "cell_type": "code",
   "execution_count": 2,
   "id": "b9abe0d8-1df5-40d6-ba61-9ee409da3e78",
   "metadata": {},
   "outputs": [
    {
     "name": "stdout",
     "output_type": "stream",
     "text": [
      "IBM Quantum account loaded successfully.\n"
     ]
    }
   ],
   "source": [
    "# Step 1: Check if the API token is already saved\n",
    "try:\n",
    "    # Attempt to load the saved account\n",
    "    service = QiskitRuntimeService()\n",
    "    print(\"IBM Quantum account loaded successfully.\")\n",
    "except Exception as e:\n",
    "    # If the account is not saved, prompt the user to save it\n",
    "    print(\"IBM Quantum account not found. Saving the API token.\")\n",
    "    # token = input('23575739e507a96f00e2055bd932402d8bd8684c5fd5bc46b148f0452f63b7c9c733314d6b09b24ec5f444a348409162384f77057619b2566e2c9928bf559e78')\n",
    "    QiskitRuntimeService.save_account(channel=\"ibm_quantum\", token=token, overwrite=True)\n",
    "    service = QiskitRuntimeService()\n",
    "    print(\"IBM Quantum account saved and loaded successfully.\")\n"
   ]
  },
  {
   "cell_type": "code",
   "execution_count": 3,
   "id": "791d3f88-e2d4-4d48-9269-d5c1be65377a",
   "metadata": {},
   "outputs": [
    {
     "name": "stdout",
     "output_type": "stream",
     "text": [
      "\n",
      "Available Backends:\n",
      "[<IBMBackend('ibm_brisbane')>, <IBMBackend('ibm_kyiv')>, <IBMBackend('ibm_sherbrooke')>]\n"
     ]
    }
   ],
   "source": [
    "# Step 2: List available backends\n",
    "print(\"\\nAvailable Backends:\")\n",
    "print(service.backends())"
   ]
  },
  {
   "cell_type": "code",
   "execution_count": 4,
   "id": "6ca4d87c-7a1d-4446-baea-d9f69f807c41",
   "metadata": {},
   "outputs": [],
   "source": [
    "# Step 3: Select a backend\n",
    "#backend_name = \"ibm_brisbane\"  # Replace with your desired backend\n",
    "#backend_name = \"ibm_sherbrooke\"  # Replace with your desired backend\n",
    "#backend = service.backend(backend_name)  # Assign the backend using the name\n",
    "#print(f\"\\nSelected Backend: {backend_name}\")"
   ]
  },
  {
   "cell_type": "code",
   "execution_count": 5,
   "id": "59eac32e-49d0-45c5-b49c-f4e32ca0c573",
   "metadata": {},
   "outputs": [
    {
     "name": "stdout",
     "output_type": "stream",
     "text": [
      "\n",
      "Selected Backend: <IBMBackend('ibm_sherbrooke')>\n"
     ]
    }
   ],
   "source": [
    "# Run on the least-busy device you have access to\n",
    "backend = service.least_busy(simulator=False,operational=True)\n",
    "print(f\"\\nSelected Backend: {backend}\")"
   ]
  },
  {
   "cell_type": "code",
   "execution_count": 6,
   "id": "8ac3c7d0-e09e-4c30-830c-f67f250f77a8",
   "metadata": {},
   "outputs": [
    {
     "data": {
      "text/plain": [
       "<qiskit.circuit.instructionset.InstructionSet at 0x133812bc0>"
      ]
     },
     "execution_count": 6,
     "metadata": {},
     "output_type": "execute_result"
    }
   ],
   "source": [
    "# Step 4: Create a quantum circuit\n",
    "qc = QuantumCircuit(1, 1)  # 1 qubit, 1 classical bit\n",
    "qc.h(0)  # Apply a Hadamard gate to the qubit\n",
    "qc.measure(0, 0)  # Measure the qubit into the classical bit"
   ]
  },
  {
   "cell_type": "code",
   "execution_count": 7,
   "id": "e7c54f83-a065-460e-83f5-ec31bdf2c802",
   "metadata": {},
   "outputs": [
    {
     "name": "stdout",
     "output_type": "stream",
     "text": [
      "\n",
      "Quantum Circuit:\n",
      "     ┌───┐┌─┐\n",
      "  q: ┤ H ├┤M├\n",
      "     └───┘└╥┘\n",
      "c: 1/══════╩═\n",
      "           0 \n"
     ]
    }
   ],
   "source": [
    "# Print the circuit (optional visualization)\n",
    "print(\"\\nQuantum Circuit:\")\n",
    "print(qc)"
   ]
  },
  {
   "cell_type": "code",
   "execution_count": 8,
   "id": "6b5c1972-3021-4217-8912-a455e2839a3e",
   "metadata": {},
   "outputs": [
    {
     "name": "stdout",
     "output_type": "stream",
     "text": [
      "\n",
      "Transpiled Circuit:\n",
      "global phase: π/4\n",
      "                                                  \n",
      "    ancilla_0 -> 0 ───────────────────────────────\n",
      "                                                  \n",
      "    ancilla_1 -> 1 ───────────────────────────────\n",
      "                                                  \n",
      "    ancilla_2 -> 2 ───────────────────────────────\n",
      "                                                  \n",
      "    ancilla_3 -> 3 ───────────────────────────────\n",
      "                                                  \n",
      "    ancilla_4 -> 4 ───────────────────────────────\n",
      "                                                  \n",
      "    ancilla_5 -> 5 ───────────────────────────────\n",
      "                                                  \n",
      "    ancilla_6 -> 6 ───────────────────────────────\n",
      "                                                  \n",
      "    ancilla_7 -> 7 ───────────────────────────────\n",
      "                                                  \n",
      "    ancilla_8 -> 8 ───────────────────────────────\n",
      "                                                  \n",
      "    ancilla_9 -> 9 ───────────────────────────────\n",
      "                                                  \n",
      "  ancilla_10 -> 10 ───────────────────────────────\n",
      "                                                  \n",
      "  ancilla_11 -> 11 ───────────────────────────────\n",
      "                                                  \n",
      "  ancilla_12 -> 12 ───────────────────────────────\n",
      "                                                  \n",
      "  ancilla_13 -> 13 ───────────────────────────────\n",
      "                                                  \n",
      "  ancilla_14 -> 14 ───────────────────────────────\n",
      "                                                  \n",
      "  ancilla_15 -> 15 ───────────────────────────────\n",
      "                                                  \n",
      "  ancilla_16 -> 16 ───────────────────────────────\n",
      "                                                  \n",
      "  ancilla_17 -> 17 ───────────────────────────────\n",
      "                                                  \n",
      "  ancilla_18 -> 18 ───────────────────────────────\n",
      "                                                  \n",
      "  ancilla_19 -> 19 ───────────────────────────────\n",
      "                                                  \n",
      "  ancilla_20 -> 20 ───────────────────────────────\n",
      "                                                  \n",
      "  ancilla_21 -> 21 ───────────────────────────────\n",
      "                                                  \n",
      "  ancilla_22 -> 22 ───────────────────────────────\n",
      "                                                  \n",
      "  ancilla_23 -> 23 ───────────────────────────────\n",
      "                                                  \n",
      "  ancilla_24 -> 24 ───────────────────────────────\n",
      "                                                  \n",
      "  ancilla_25 -> 25 ───────────────────────────────\n",
      "                                                  \n",
      "  ancilla_26 -> 26 ───────────────────────────────\n",
      "                                                  \n",
      "  ancilla_27 -> 27 ───────────────────────────────\n",
      "                                                  \n",
      "  ancilla_28 -> 28 ───────────────────────────────\n",
      "                                                  \n",
      "  ancilla_29 -> 29 ───────────────────────────────\n",
      "                                                  \n",
      "  ancilla_30 -> 30 ───────────────────────────────\n",
      "                                                  \n",
      "  ancilla_31 -> 31 ───────────────────────────────\n",
      "                                                  \n",
      "  ancilla_32 -> 32 ───────────────────────────────\n",
      "                                                  \n",
      "  ancilla_33 -> 33 ───────────────────────────────\n",
      "                                                  \n",
      "  ancilla_34 -> 34 ───────────────────────────────\n",
      "                                                  \n",
      "  ancilla_35 -> 35 ───────────────────────────────\n",
      "                                                  \n",
      "  ancilla_36 -> 36 ───────────────────────────────\n",
      "                                                  \n",
      "  ancilla_37 -> 37 ───────────────────────────────\n",
      "                                                  \n",
      "  ancilla_38 -> 38 ───────────────────────────────\n",
      "                                                  \n",
      "  ancilla_39 -> 39 ───────────────────────────────\n",
      "                                                  \n",
      "  ancilla_40 -> 40 ───────────────────────────────\n",
      "                                                  \n",
      "  ancilla_41 -> 41 ───────────────────────────────\n",
      "                                                  \n",
      "  ancilla_42 -> 42 ───────────────────────────────\n",
      "                                                  \n",
      "  ancilla_43 -> 43 ───────────────────────────────\n",
      "                                                  \n",
      "  ancilla_44 -> 44 ───────────────────────────────\n",
      "                                                  \n",
      "  ancilla_45 -> 45 ───────────────────────────────\n",
      "                                                  \n",
      "  ancilla_46 -> 46 ───────────────────────────────\n",
      "                                                  \n",
      "  ancilla_47 -> 47 ───────────────────────────────\n",
      "                                                  \n",
      "  ancilla_48 -> 48 ───────────────────────────────\n",
      "                                                  \n",
      "  ancilla_49 -> 49 ───────────────────────────────\n",
      "                                                  \n",
      "  ancilla_50 -> 50 ───────────────────────────────\n",
      "                                                  \n",
      "  ancilla_51 -> 51 ───────────────────────────────\n",
      "                                                  \n",
      "  ancilla_52 -> 52 ───────────────────────────────\n",
      "                                                  \n",
      "  ancilla_53 -> 53 ───────────────────────────────\n",
      "                                                  \n",
      "  ancilla_54 -> 54 ───────────────────────────────\n",
      "                                                  \n",
      "  ancilla_55 -> 55 ───────────────────────────────\n",
      "                                                  \n",
      "  ancilla_56 -> 56 ───────────────────────────────\n",
      "                                                  \n",
      "  ancilla_57 -> 57 ───────────────────────────────\n",
      "                                                  \n",
      "  ancilla_58 -> 58 ───────────────────────────────\n",
      "                                                  \n",
      "  ancilla_59 -> 59 ───────────────────────────────\n",
      "                                                  \n",
      "  ancilla_60 -> 60 ───────────────────────────────\n",
      "                                                  \n",
      "  ancilla_61 -> 61 ───────────────────────────────\n",
      "                                                  \n",
      "  ancilla_62 -> 62 ───────────────────────────────\n",
      "                                                  \n",
      "  ancilla_63 -> 63 ───────────────────────────────\n",
      "                                                  \n",
      "  ancilla_64 -> 64 ───────────────────────────────\n",
      "                                                  \n",
      "  ancilla_65 -> 65 ───────────────────────────────\n",
      "                                                  \n",
      "  ancilla_66 -> 66 ───────────────────────────────\n",
      "                                                  \n",
      "  ancilla_67 -> 67 ───────────────────────────────\n",
      "                                                  \n",
      "  ancilla_68 -> 68 ───────────────────────────────\n",
      "                                                  \n",
      "  ancilla_69 -> 69 ───────────────────────────────\n",
      "                                                  \n",
      "  ancilla_70 -> 70 ───────────────────────────────\n",
      "                                                  \n",
      "  ancilla_71 -> 71 ───────────────────────────────\n",
      "                                                  \n",
      "  ancilla_72 -> 72 ───────────────────────────────\n",
      "                                                  \n",
      "  ancilla_73 -> 73 ───────────────────────────────\n",
      "                                                  \n",
      "  ancilla_74 -> 74 ───────────────────────────────\n",
      "                                                  \n",
      "  ancilla_75 -> 75 ───────────────────────────────\n",
      "                                                  \n",
      "  ancilla_76 -> 76 ───────────────────────────────\n",
      "                                                  \n",
      "  ancilla_77 -> 77 ───────────────────────────────\n",
      "                                                  \n",
      "  ancilla_78 -> 78 ───────────────────────────────\n",
      "                                                  \n",
      "  ancilla_79 -> 79 ───────────────────────────────\n",
      "                                                  \n",
      "  ancilla_80 -> 80 ───────────────────────────────\n",
      "                                                  \n",
      "  ancilla_81 -> 81 ───────────────────────────────\n",
      "                                                  \n",
      "  ancilla_82 -> 82 ───────────────────────────────\n",
      "                                                  \n",
      "  ancilla_83 -> 83 ───────────────────────────────\n",
      "                                                  \n",
      "  ancilla_84 -> 84 ───────────────────────────────\n",
      "                                                  \n",
      "  ancilla_85 -> 85 ───────────────────────────────\n",
      "                                                  \n",
      "  ancilla_86 -> 86 ───────────────────────────────\n",
      "                                                  \n",
      "  ancilla_87 -> 87 ───────────────────────────────\n",
      "                                                  \n",
      "  ancilla_88 -> 88 ───────────────────────────────\n",
      "                                                  \n",
      "  ancilla_89 -> 89 ───────────────────────────────\n",
      "                                                  \n",
      "  ancilla_90 -> 90 ───────────────────────────────\n",
      "                                                  \n",
      "  ancilla_91 -> 91 ───────────────────────────────\n",
      "                                                  \n",
      "  ancilla_92 -> 92 ───────────────────────────────\n",
      "                                                  \n",
      "  ancilla_93 -> 93 ───────────────────────────────\n",
      "                                                  \n",
      "  ancilla_94 -> 94 ───────────────────────────────\n",
      "                                                  \n",
      "  ancilla_95 -> 95 ───────────────────────────────\n",
      "                                                  \n",
      "  ancilla_96 -> 96 ───────────────────────────────\n",
      "                                                  \n",
      "  ancilla_97 -> 97 ───────────────────────────────\n",
      "                                                  \n",
      "  ancilla_98 -> 98 ───────────────────────────────\n",
      "                                                  \n",
      "  ancilla_99 -> 99 ───────────────────────────────\n",
      "                                                  \n",
      "ancilla_100 -> 100 ───────────────────────────────\n",
      "                                                  \n",
      "ancilla_101 -> 101 ───────────────────────────────\n",
      "                                                  \n",
      "ancilla_102 -> 102 ───────────────────────────────\n",
      "                                                  \n",
      "ancilla_103 -> 103 ───────────────────────────────\n",
      "                                                  \n",
      "ancilla_104 -> 104 ───────────────────────────────\n",
      "                                                  \n",
      "ancilla_105 -> 105 ───────────────────────────────\n",
      "                                                  \n",
      "ancilla_106 -> 106 ───────────────────────────────\n",
      "                                                  \n",
      "ancilla_107 -> 107 ───────────────────────────────\n",
      "                                                  \n",
      "ancilla_108 -> 108 ───────────────────────────────\n",
      "                                                  \n",
      "ancilla_109 -> 109 ───────────────────────────────\n",
      "                                                  \n",
      "ancilla_110 -> 110 ───────────────────────────────\n",
      "                                                  \n",
      "ancilla_111 -> 111 ───────────────────────────────\n",
      "                                                  \n",
      "ancilla_112 -> 112 ───────────────────────────────\n",
      "                   ┌─────────┐┌────┐┌─────────┐┌─┐\n",
      "        q_0 -> 113 ┤ Rz(π/2) ├┤ √X ├┤ Rz(π/2) ├┤M├\n",
      "                   └─────────┘└────┘└─────────┘└╥┘\n",
      "ancilla_113 -> 114 ─────────────────────────────╫─\n",
      "                                                ║ \n",
      "ancilla_114 -> 115 ─────────────────────────────╫─\n",
      "                                                ║ \n",
      "ancilla_115 -> 116 ─────────────────────────────╫─\n",
      "                                                ║ \n",
      "ancilla_116 -> 117 ─────────────────────────────╫─\n",
      "                                                ║ \n",
      "ancilla_117 -> 118 ─────────────────────────────╫─\n",
      "                                                ║ \n",
      "ancilla_118 -> 119 ─────────────────────────────╫─\n",
      "                                                ║ \n",
      "ancilla_119 -> 120 ─────────────────────────────╫─\n",
      "                                                ║ \n",
      "ancilla_120 -> 121 ─────────────────────────────╫─\n",
      "                                                ║ \n",
      "ancilla_121 -> 122 ─────────────────────────────╫─\n",
      "                                                ║ \n",
      "ancilla_122 -> 123 ─────────────────────────────╫─\n",
      "                                                ║ \n",
      "ancilla_123 -> 124 ─────────────────────────────╫─\n",
      "                                                ║ \n",
      "ancilla_124 -> 125 ─────────────────────────────╫─\n",
      "                                                ║ \n",
      "ancilla_125 -> 126 ─────────────────────────────╫─\n",
      "                                                ║ \n",
      "              c: 1/═════════════════════════════╩═\n",
      "                                                0 \n"
     ]
    }
   ],
   "source": [
    "# Step 5: Transpile the circuit for the selected backend\n",
    "compiled_circuit = transpile(qc, backend)\n",
    "print(\"\\nTranspiled Circuit:\")\n",
    "print(compiled_circuit)"
   ]
  },
  {
   "cell_type": "code",
   "execution_count": 9,
   "id": "4f4ffa4a-e3ee-40aa-837e-1adc04147559",
   "metadata": {},
   "outputs": [
    {
     "name": "stdout",
     "output_type": "stream",
     "text": [
      "\n",
      "Running the circuit...\n"
     ]
    }
   ],
   "source": [
    "# Step 6: Use the Sampler primitive without specifying shots during initialization\n",
    "sampler = Sampler(mode=backend)  # Initialize the Sampler without options\n",
    "\n",
    "print(\"\\nRunning the circuit...\")"
   ]
  },
  {
   "cell_type": "code",
   "execution_count": null,
   "id": "866846b1-6faa-47a3-b3c6-18cfb2950295",
   "metadata": {
    "scrolled": true
   },
   "outputs": [],
   "source": [
    "# Execute the circuit with shots specified in the run() method\n",
    "job = sampler.run([compiled_circuit], shots=1024).result()  # Pass circuits as the first positional argument\n"
   ]
  },
  {
   "cell_type": "code",
   "execution_count": null,
   "id": "7502eeeb-f257-4630-ad90-270188fd6ad9",
   "metadata": {},
   "outputs": [],
   "source": [
    "service.jobs(backend_name=backend)\n",
    "print(job.usage_estimation)\n"
   ]
  },
  {
   "cell_type": "code",
   "execution_count": null,
   "id": "d6a5bd7d-3205-4abf-a55a-dd1e4b739a5b",
   "metadata": {},
   "outputs": [],
   "source": [
    "job.status()\n",
    "print(\"Waiting for results\")\n"
   ]
  },
  {
   "cell_type": "code",
   "execution_count": null,
   "id": "00418ce2-d2a8-411a-92b7-6a6260a6f41d",
   "metadata": {},
   "outputs": [],
   "source": [
    "# Get the counts from the bitarray\n",
    "bitarray = job._pub_results[0].data.c\n",
    "print(\"Shape of the bitarray:\" bitarray.shape)\n",
    "print(\"Number of shots:\" bitarray.num_shots)\n",
    "print(\"Number of bits:\", bitarray.num_bits)\n",
    "\n",
    "# Get the actual counts\n",
    "counts = bitarray.get_counts()\n",
    "print(\"\\nMeasurement counts:\", counts)"
   ]
  },
  {
   "cell_type": "code",
   "execution_count": null,
   "id": "9997b6c9-5005-427f-99dc-641a78b526ed",
   "metadata": {},
   "outputs": [],
   "source": [
    "counts = result.get_counts()\n",
    "#counts = result.quasi_dists[0]"
   ]
  },
  {
   "cell_type": "code",
   "execution_count": null,
   "id": "5e0b7ba3-ee8c-45d1-92c8-d47083b9ca65",
   "metadata": {},
   "outputs": [],
   "source": [
    "file_path='/Users/oross/Library/CloudStorage/Dropbox/2024/CursosDePosgrado_2024/Quantum_Computing_2024AB/Quantum_computing_2024B/QC_GoogleClassroom_2024B/5_La_comp_cuantica_y_sim_IBMQ/5.4_Prog_circuitos_cuanticos_simulador/4Q_chapter-Copy1.ipynb'"
   ]
  },
  {
   "cell_type": "code",
   "execution_count": null,
   "id": "5ef4f683-a133-4be3-b4f7-518c67c84c73",
   "metadata": {},
   "outputs": [],
   "source": [
    "notebook = nbf.read(open(file_path), as_version=4)"
   ]
  },
  {
   "cell_type": "code",
   "execution_count": null,
   "id": "85adeeaf-4a4d-4db7-83ee-3750f5df8f7d",
   "metadata": {},
   "outputs": [],
   "source": [
    "code_cells = [cell for cell in notebook['cells'] if cell['cell_type'] == 'code']\n"
   ]
  },
  {
   "cell_type": "code",
   "execution_count": null,
   "id": "477b1320-f466-4e19-870d-38f15a1ad11e",
   "metadata": {},
   "outputs": [],
   "source": [
    "# Assuming the oracle function is defined in one of the code cells, let's find it\n",
    "oracle_code = next((cell['source'] for cell in code_cells if 'def oracle(' in cell['source']), None)\n",
    "\n",
    "# Display the oracle code for review\n",
    "print(oracle_code)\n"
   ]
  }
 ],
 "metadata": {
  "kernelspec": {
   "display_name": "Python (qiskit-env)",
   "language": "python",
   "name": "qiskit-env"
  },
  "language_info": {
   "codemirror_mode": {
    "name": "ipython",
    "version": 3
   },
   "file_extension": ".py",
   "mimetype": "text/x-python",
   "name": "python",
   "nbconvert_exporter": "python",
   "pygments_lexer": "ipython3",
   "version": "3.9.21"
  }
 },
 "nbformat": 4,
 "nbformat_minor": 5
}
