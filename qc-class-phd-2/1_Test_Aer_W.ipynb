{
 "cells": [
  {
   "cell_type": "markdown",
   "id": "0fb60ce8-f416-4a61-9bef-9d2241904002",
   "metadata": {},
   "source": [
    "# Test Aer instalation - Windows\n",
    "## Dr. Oscar Montiel\n",
    "### Nov 30, 2024"
   ]
  },
  {
   "cell_type": "code",
   "execution_count": 1,
   "id": "1a622b97-8b91-4b18-87f9-37028531fcc8",
   "metadata": {},
   "outputs": [],
   "source": [
    "from qiskit import QuantumCircuit\n",
    "from qiskit_aer import AerSimulator  # Importar el simulador AerSimulator\n",
    "# qiskit_aer import execute  # Importar execute desde qiskit_aer\n",
    "from qiskit import transpile  # Importa transpile para simular el circuito"
   ]
  },
  {
   "cell_type": "code",
   "execution_count": 2,
   "id": "0333b732-9486-453d-b81c-795ae12ff924",
   "metadata": {},
   "outputs": [],
   "source": [
    "# Crear un circuito cuántico con 1 qubit y 1 bit clásico\n",
    "qc = QuantumCircuit(1, 1)"
   ]
  },
  {
   "cell_type": "code",
   "execution_count": 3,
   "id": "3b69e522-da6d-445b-98d5-1dbf3c3d1dbc",
   "metadata": {},
   "outputs": [
    {
     "data": {
      "text/plain": [
       "<qiskit.circuit.instructionset.InstructionSet at 0x7f63b8d15e20>"
      ]
     },
     "execution_count": 3,
     "metadata": {},
     "output_type": "execute_result"
    }
   ],
   "source": [
    "# Aplicar la puerta Pauli-X (NOT cuántico)\n",
    "qc.x(0)"
   ]
  },
  {
   "cell_type": "code",
   "execution_count": 4,
   "id": "041e1522-c26a-41d7-b34c-8cf03a6b4552",
   "metadata": {},
   "outputs": [
    {
     "data": {
      "text/plain": [
       "<qiskit.circuit.instructionset.InstructionSet at 0x7f63b8cfb460>"
      ]
     },
     "execution_count": 4,
     "metadata": {},
     "output_type": "execute_result"
    }
   ],
   "source": [
    "# Medir el estado del qubit\n",
    "qc.measure(0, 0)"
   ]
  },
  {
   "cell_type": "code",
   "execution_count": 5,
   "id": "dcc24b70-224b-4eec-a969-f76ad165827c",
   "metadata": {},
   "outputs": [
    {
     "name": "stdout",
     "output_type": "stream",
     "text": [
      "Circuito:\n",
      "      ┌───┐┌─┐\n",
      "  q: ┤ X ├┤M├\n",
      "     └───┘└╥┘\n",
      "c: 1/══════╩═\n",
      "           0 \n"
     ]
    }
   ],
   "source": [
    "# Mostrar el circuito\n",
    "print(\"Circuito:\\n\", qc)"
   ]
  },
  {
   "cell_type": "code",
   "execution_count": 6,
   "id": "67e44b70-7a27-44c3-9132-758be0f97f2e",
   "metadata": {},
   "outputs": [
    {
     "data": {
      "image/png": "[encoded data removed]",
      "text/plain": [
       "<Figure size 269.064x200.667 with 1 Axes>"
      ]
     },
     "execution_count": 6,
     "metadata": {},
     "output_type": "execute_result"
    }
   ],
   "source": [
    "qc.draw(output='mpl')"
   ]
  },
  {
   "cell_type": "code",
   "execution_count": 7,
   "id": "a4f7eafa-0076-4619-b966-3f3aa8cb9109",
   "metadata": {},
   "outputs": [],
   "source": [
    "# Instanciar el simulador Aer\n",
    "simulator = AerSimulator()"
   ]
  },
  {
   "cell_type": "code",
   "execution_count": 8,
   "id": "b1a65efc-d839-4187-a3e8-193227442944",
   "metadata": {},
   "outputs": [],
   "source": [
    "# Transpilar el circuito para el simulador\n",
    "compiled_circuit = transpile(qc, simulator)"
   ]
  },
  {
   "cell_type": "code",
   "execution_count": 9,
   "id": "ef9ecca4-ae01-499e-adb1-1f6290b7b1ec",
   "metadata": {},
   "outputs": [],
   "source": [
    "# Ejecutar el circuito en el simulador\n",
    "result = simulator.run(compiled_circuit, shots=1024).result()"
   ]
  },
  {
   "cell_type": "code",
   "execution_count": 10,
   "id": "eed6eeb5-7d23-4fee-bb3d-bdda98562990",
   "metadata": {},
   "outputs": [
    {
     "name": "stdout",
     "output_type": "stream",
     "text": [
      "\n",
      "Resultados de la simulación:\n",
      "{'1': 1024}\n"
     ]
    }
   ],
   "source": [
    "# Obtener y mostrar los resultados de la simulación\n",
    "counts = result.get_counts()\n",
    "print(\"\\nResultados de la simulación:\")\n",
    "print(counts)"
   ]
  },
  {
   "cell_type": "code",
   "execution_count": null,
   "id": "63a63387-3216-4b25-a660-baf08a85e10e",
   "metadata": {},
   "outputs": [],
   "source": []
  }
 ],
 "metadata": {
  "kernelspec": {
   "display_name": "Python (qiskit-env)",
   "language": "python",
   "name": "qiskit-env"
  },
  "language_info": {
   "codemirror_mode": {
    "name": "ipython",
    "version": 3
   },
   "file_extension": ".py",
   "mimetype": "text/x-python",
   "name": "python",
   "nbconvert_exporter": "python",
   "pygments_lexer": "ipython3",
   "version": "3.9.21"
  }
 },
 "nbformat": 4,
 "nbformat_minor": 5
}
