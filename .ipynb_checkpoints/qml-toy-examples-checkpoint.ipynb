{
 "cells": [
  {
   "cell_type": "code",
   "execution_count": 29,
   "id": "7ac6ec77-7598-4ac8-b101-b0bf7a409092",
   "metadata": {},
   "outputs": [],
   "source": [
    "import pennylane as qml\n",
    "import numpy as np\n",
    "import pennylane.numpy as pnp\n",
    "from sklearn.linear_model import LogisticRegression\n",
    "from sklearn.metrics import accuracy_score\n",
    "from sklearn.model_selection import train_test_split\n",
    "from pennylane.optimize import NesterovMomentumOptimizer"
   ]
  },
  {
   "cell_type": "code",
   "execution_count": 30,
   "id": "b70aefe7-6fe3-463d-8ae7-9b71a5d996db",
   "metadata": {},
   "outputs": [],
   "source": [
    "np.random.seed(42)\n",
    "data_size = 20\n",
    "X = np.random.rand(data_size, 1) * 2 -1\n",
    "y = (X[:, 0] > 0).astype(int)\n",
    "\n",
    "X_train, X_test, y_train, y_test = train_test_split(X, y, test_size=0.3, random_state=42)"
   ]
  },
  {
   "cell_type": "code",
   "execution_count": 31,
   "id": "c8374fb2-39de-4fd2-ae06-8be3a4851deb",
   "metadata": {},
   "outputs": [
    {
     "name": "stdout",
     "output_type": "stream",
     "text": [
      "Classical model accuracy: 0.8333333333333334\n"
     ]
    }
   ],
   "source": [
    "log_reg = LogisticRegression()\n",
    "log_reg.fit(X_train, y_train)\n",
    "\n",
    "y_pred_classical = log_reg.predict(X_test)\n",
    "accuracy_classical = accuracy_score(y_test, y_pred_classical)\n",
    "\n",
    "print(f'Classical model accuracy: {accuracy_classical}')"
   ]
  },
  {
   "cell_type": "code",
   "execution_count": 32,
   "id": "7895bcc7-62e8-45d2-9370-a68fb0ef2781",
   "metadata": {},
   "outputs": [],
   "source": [
    "dev = qml.device('default.qubit', wires=1)\n",
    "\n",
    "def quantum_circuit(params, x):\n",
    "    qml.RY(x, wires=0)\n",
    "    qml.RX(params[0], wires=0)\n",
    "    qml.RZ(params[1], wires=0)\n",
    "    return qml.expval(qml.PauliZ(0))"
   ]
  },
  {
   "cell_type": "code",
   "execution_count": 33,
   "id": "48d7e4e8-e41a-4640-86b2-86b824f47fe8",
   "metadata": {},
   "outputs": [
    {
     "data": {
      "image/png": "[encoded data removed]",
      "text/plain": [
       "<Figure size 600x200 with 1 Axes>"
      ]
     },
     "metadata": {},
     "output_type": "display_data"
    }
   ],
   "source": [
    "@qml.qnode(dev)\n",
    "def circuit(p, x):\n",
    "    return quantum_circuit(params, x)\n",
    "\n",
    "# inputs = np.random.rand(wires)\n",
    "# weights = np.random.rand(3, wires, 3)\n",
    "\n",
    "# params = np.random.uniform(-np.pi, np.pi, 2)\n",
    "penny_params = pnp.array(np.random.uniform(-np.pi, np.pi, 2), requires_grad=True)\n",
    "\n",
    "# fig, ax = qml.draw_mpl(qnode)(inputs, weights)\n",
    "fig, ax = qml.draw_mpl(circuit)(params, X_train)\n",
    "fig.show()"
   ]
  },
  {
   "cell_type": "code",
   "execution_count": 39,
   "id": "d49728f1-8cf8-41bc-a141-b5619ce25439",
   "metadata": {},
   "outputs": [],
   "source": [
    "def cost(p, X, y):\n",
    "    predictions = np.array([circuit(p, x) for x in X])\n",
    "    return np.mean((predictions - y) ** 2)"
   ]
  },
  {
   "cell_type": "code",
   "execution_count": 40,
   "id": "26b1a578-b8e0-4943-a507-a862ed4bb1df",
   "metadata": {},
   "outputs": [],
   "source": [
    "optimizer = NesterovMomentumOptimizer(stepsize=0.1)"
   ]
  },
  {
   "cell_type": "code",
   "execution_count": null,
   "id": "510cc23c-495c-4e6c-b20f-e274b67fa00c",
   "metadata": {},
   "outputs": [],
   "source": [
    "X_train_scaled = (X_train[:, 0] + 1) * (np.pi / 2)\n",
    "X_test_scaled = (X_test[:, 0] + 1) * (np.pi / 2)"
   ]
  },
  {
   "cell_type": "code",
   "execution_count": null,
   "id": "9d86b025-4f1f-4f54-b284-d2cff50ef4f7",
   "metadata": {},
   "outputs": [],
   "source": [
    "print(penny_params)"
   ]
  },
  {
   "cell_type": "code",
   "execution_count": null,
   "id": "b9952a9c-23aa-4890-9d54-b4d3b38d1a75",
   "metadata": {},
   "outputs": [],
   "source": [
    "for epoch in range(epochs):\n",
    "    params = optimizer.step(lambda p: cost(p, X_train[:, 0], y_train), penny_params)\n",
    "\n",
    "print(f'trained quantum parameters: {params}')"
   ]
  }
 ],
 "metadata": {
  "kernelspec": {
   "display_name": "SPIE2024-GPU",
   "language": "python",
   "name": "spie2024-gpu"
  },
  "language_info": {
   "codemirror_mode": {
    "name": "ipython",
    "version": 3
   },
   "file_extension": ".py",
   "mimetype": "text/x-python",
   "name": "python",
   "nbconvert_exporter": "python",
   "pygments_lexer": "ipython3",
   "version": "3.10.14"
  }
 },
 "nbformat": 4,
 "nbformat_minor": 5
}
